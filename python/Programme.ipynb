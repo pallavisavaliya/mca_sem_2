{
 "cells": [
  {
   "cell_type": "markdown",
   "id": "065db217",
   "metadata": {},
   "source": [
    "<h1>Variable</h1>"
   ]
  },
  {
   "cell_type": "code",
   "execution_count": 3,
   "id": "fe118f7a",
   "metadata": {},
   "outputs": [
    {
     "data": {
      "text/plain": [
       "int"
      ]
     },
     "execution_count": 3,
     "metadata": {},
     "output_type": "execute_result"
    }
   ],
   "source": [
    "i = 0\n",
    "f = 2.5\n",
    "type(i)\n"
   ]
  },
  {
   "cell_type": "markdown",
   "id": "a655da06",
   "metadata": {},
   "source": [
    "<h1>DataType</h1>"
   ]
  },
  {
   "cell_type": "code",
   "execution_count": 15,
   "id": "f978e7b3",
   "metadata": {},
   "outputs": [
    {
     "data": {
      "text/plain": [
       "True"
      ]
     },
     "execution_count": 15,
     "metadata": {},
     "output_type": "execute_result"
    }
   ],
   "source": [
    "s = \"xyz\"\n",
    "type(s)==str"
   ]
  },
  {
   "cell_type": "code",
   "execution_count": 18,
   "id": "b499641a",
   "metadata": {},
   "outputs": [
    {
     "data": {
      "text/plain": [
       "True"
      ]
     },
     "execution_count": 18,
     "metadata": {},
     "output_type": "execute_result"
    }
   ],
   "source": [
    "x = 2.0\n",
    "type(x)==float"
   ]
  },
  {
   "cell_type": "markdown",
   "id": "a4a56fb6",
   "metadata": {},
   "source": [
    "<h1>Operator</h1>"
   ]
  },
  {
   "cell_type": "code",
   "execution_count": 26,
   "id": "d03d39ae",
   "metadata": {},
   "outputs": [
    {
     "data": {
      "text/plain": [
       "8"
      ]
     },
     "execution_count": 26,
     "metadata": {},
     "output_type": "execute_result"
    }
   ],
   "source": [
    "a = 5\n",
    "a = a + 3\n",
    "a"
   ]
  },
  {
   "cell_type": "code",
   "execution_count": 32,
   "id": "93f1545f",
   "metadata": {},
   "outputs": [
    {
     "data": {
      "text/plain": [
       "True"
      ]
     },
     "execution_count": 32,
     "metadata": {},
     "output_type": "execute_result"
    }
   ],
   "source": [
    "a = a < 3\n",
    "a"
   ]
  },
  {
   "cell_type": "markdown",
   "id": "e9537b0a",
   "metadata": {},
   "source": [
    "<h1>Boolean</h1>"
   ]
  },
  {
   "cell_type": "code",
   "execution_count": 48,
   "id": "25c04ec5",
   "metadata": {},
   "outputs": [
    {
     "data": {
      "text/plain": [
       "-1"
      ]
     },
     "execution_count": 48,
     "metadata": {},
     "output_type": "execute_result"
    }
   ],
   "source": [
    "b = False - True \n",
    "b"
   ]
  },
  {
   "cell_type": "code",
   "execution_count": 42,
   "id": "16bd8789",
   "metadata": {},
   "outputs": [
    {
     "data": {
      "text/plain": [
       "1"
      ]
     },
     "execution_count": 42,
     "metadata": {},
     "output_type": "execute_result"
    }
   ],
   "source": [
    "b = True - False\n",
    "b"
   ]
  },
  {
   "cell_type": "code",
   "execution_count": 49,
   "id": "4fb758bc",
   "metadata": {},
   "outputs": [
    {
     "data": {
      "text/plain": [
       "int"
      ]
     },
     "execution_count": 49,
     "metadata": {},
     "output_type": "execute_result"
    }
   ],
   "source": [
    " type(b)"
   ]
  },
  {
   "cell_type": "code",
   "execution_count": 50,
   "id": "710889be",
   "metadata": {},
   "outputs": [
    {
     "data": {
      "text/plain": [
       "7"
      ]
     },
     "execution_count": 50,
     "metadata": {},
     "output_type": "execute_result"
    }
   ],
   "source": [
    "b = True + 1\n",
    "b = b + 5\n",
    "b"
   ]
  },
  {
   "cell_type": "markdown",
   "id": "9cc48919",
   "metadata": {},
   "source": [
    "<h1>String</h1>"
   ]
  },
  {
   "cell_type": "code",
   "execution_count": 1,
   "id": "106a549d",
   "metadata": {},
   "outputs": [
    {
     "data": {
      "text/plain": [
       "'this is programme'"
      ]
     },
     "execution_count": 1,
     "metadata": {},
     "output_type": "execute_result"
    }
   ],
   "source": [
    "s = 'this is programme'\n",
    "s"
   ]
  },
  {
   "cell_type": "code",
   "execution_count": 55,
   "id": "2b3b755b",
   "metadata": {},
   "outputs": [
    {
     "data": {
      "text/plain": [
       "str"
      ]
     },
     "execution_count": 55,
     "metadata": {},
     "output_type": "execute_result"
    }
   ],
   "source": [
    "type(s)"
   ]
  },
  {
   "cell_type": "code",
   "execution_count": 68,
   "id": "5e4ec192",
   "metadata": {},
   "outputs": [
    {
     "data": {
      "text/plain": [
       "'this isprogramme'"
      ]
     },
     "execution_count": 68,
     "metadata": {},
     "output_type": "execute_result"
    }
   ],
   "source": [
    "s = 'this is' + 'programme'\n",
    "s"
   ]
  },
  {
   "cell_type": "code",
   "execution_count": 3,
   "id": "f7e04282",
   "metadata": {},
   "outputs": [
    {
     "name": "stdout",
     "output_type": "stream",
     "text": [
      "this is \n",
      " programme\n"
     ]
    }
   ],
   "source": [
    "s = 'this is \\n programme'\n",
    "print(s)"
   ]
  },
  {
   "cell_type": "code",
   "execution_count": 6,
   "id": "0ca6daef",
   "metadata": {},
   "outputs": [
    {
     "name": "stdout",
     "output_type": "stream",
     "text": [
      "this is \t programme\n"
     ]
    }
   ],
   "source": [
    "s = 'this is \\t programme'\n",
    "print(s)"
   ]
  },
  {
   "cell_type": "code",
   "execution_count": 82,
   "id": "2f4508fe",
   "metadata": {},
   "outputs": [
    {
     "data": {
      "text/plain": [
       "'this is programmethis is programmethis is programme'"
      ]
     },
     "execution_count": 82,
     "metadata": {},
     "output_type": "execute_result"
    }
   ],
   "source": [
    "s = 'this is programme' * 3\n",
    "s"
   ]
  },
  {
   "cell_type": "code",
   "execution_count": 8,
   "id": "a6212b37",
   "metadata": {},
   "outputs": [
    {
     "data": {
      "text/plain": [
       "'t'"
      ]
     },
     "execution_count": 8,
     "metadata": {},
     "output_type": "execute_result"
    }
   ],
   "source": [
    "s = 'this is programme'\n",
    "s[0]"
   ]
  },
  {
   "cell_type": "code",
   "execution_count": 84,
   "id": "83c908e9",
   "metadata": {},
   "outputs": [
    {
     "data": {
      "text/plain": [
       "'i'"
      ]
     },
     "execution_count": 84,
     "metadata": {},
     "output_type": "execute_result"
    }
   ],
   "source": [
    "s[5]"
   ]
  },
  {
   "cell_type": "code",
   "execution_count": 10,
   "id": "a0c37ef0",
   "metadata": {},
   "outputs": [
    {
     "data": {
      "text/plain": [
       "'his '"
      ]
     },
     "execution_count": 10,
     "metadata": {},
     "output_type": "execute_result"
    }
   ],
   "source": [
    "s[1:5]"
   ]
  },
  {
   "cell_type": "code",
   "execution_count": 5,
   "id": "c7f63ae9",
   "metadata": {},
   "outputs": [
    {
     "data": {
      "text/plain": [
       "'uaiah'"
      ]
     },
     "execution_count": 5,
     "metadata": {},
     "output_type": "execute_result"
    }
   ],
   "source": [
    "s = 'gujarat vidhyapith'\n",
    "s[1::4]"
   ]
  },
  {
   "cell_type": "code",
   "execution_count": 7,
   "id": "75181703",
   "metadata": {},
   "outputs": [
    {
     "data": {
      "text/plain": [
       "'ua'"
      ]
     },
     "execution_count": 7,
     "metadata": {},
     "output_type": "execute_result"
    }
   ],
   "source": [
    "s[1:7:4]"
   ]
  },
  {
   "cell_type": "code",
   "execution_count": 35,
   "id": "a484ce31",
   "metadata": {},
   "outputs": [
    {
     "data": {
      "text/plain": [
       "'GUJARAT VIDHYAPITH'"
      ]
     },
     "execution_count": 35,
     "metadata": {},
     "output_type": "execute_result"
    }
   ],
   "source": [
    "s = 'gujarat vidhyapith'\n",
    "s.upper()\n"
   ]
  },
  {
   "cell_type": "code",
   "execution_count": 38,
   "id": "1ad0deba",
   "metadata": {},
   "outputs": [
    {
     "data": {
      "text/plain": [
       "'gujart vidhyapith'"
      ]
     },
     "execution_count": 38,
     "metadata": {},
     "output_type": "execute_result"
    }
   ],
   "source": [
    "s.lower()"
   ]
  },
  {
   "cell_type": "code",
   "execution_count": 9,
   "id": "330958ec",
   "metadata": {},
   "outputs": [
    {
     "data": {
      "text/plain": [
       "2"
      ]
     },
     "execution_count": 9,
     "metadata": {},
     "output_type": "execute_result"
    }
   ],
   "source": [
    "s.count('t')"
   ]
  },
  {
   "cell_type": "code",
   "execution_count": 53,
   "id": "52751e6c",
   "metadata": {},
   "outputs": [
    {
     "data": {
      "text/plain": [
       "'Gujarat vidhyapith'"
      ]
     },
     "execution_count": 53,
     "metadata": {},
     "output_type": "execute_result"
    }
   ],
   "source": [
    "s.capitalize()"
   ]
  },
  {
   "cell_type": "code",
   "execution_count": 11,
   "id": "ea80e9bf",
   "metadata": {},
   "outputs": [
    {
     "data": {
      "text/plain": [
       "3"
      ]
     },
     "execution_count": 11,
     "metadata": {},
     "output_type": "execute_result"
    }
   ],
   "source": [
    "s.index('a')"
   ]
  },
  {
   "cell_type": "markdown",
   "id": "144832fa",
   "metadata": {},
   "source": [
    "<h1>Formatting String</h1>"
   ]
  },
  {
   "cell_type": "code",
   "execution_count": 12,
   "id": "10ec2f78",
   "metadata": {},
   "outputs": [
    {
     "name": "stdout",
     "output_type": "stream",
     "text": [
      "20 10 \n"
     ]
    }
   ],
   "source": [
    "a,b = 10,20\n",
    "print(\"{} {} \".format(b,a))\n"
   ]
  },
  {
   "cell_type": "markdown",
   "id": "07fff6ff",
   "metadata": {},
   "source": [
    "<h1>Type Conversion</h1>"
   ]
  },
  {
   "cell_type": "code",
   "execution_count": 79,
   "id": "9b72884d",
   "metadata": {},
   "outputs": [
    {
     "name": "stdout",
     "output_type": "stream",
     "text": [
      "2\n"
     ]
    }
   ],
   "source": [
    "i = float(\"10\")\n",
    "i = int (2.5)\n",
    "print(i)"
   ]
  },
  {
   "cell_type": "markdown",
   "id": "ee83859f",
   "metadata": {},
   "source": [
    "<h1>List</h1>"
   ]
  },
  {
   "cell_type": "code",
   "execution_count": 96,
   "id": "d50b00e6",
   "metadata": {},
   "outputs": [
    {
     "data": {
      "text/plain": [
       "[1, 5.2, True, 'def', 'this', 'is']"
      ]
     },
     "execution_count": 96,
     "metadata": {},
     "output_type": "execute_result"
    }
   ],
   "source": [
    "l1 = [1,5.2,'abc',True]\n",
    "l1.insert(4,'def')\n",
    "l1.append('this')\n",
    "l1.append('is')\n",
    "l1.remove('abc')\n",
    "l1"
   ]
  },
  {
   "cell_type": "code",
   "execution_count": 9,
   "id": "5f8e9176",
   "metadata": {},
   "outputs": [
    {
     "data": {
      "text/plain": [
       "[1, 5.2, 'abc', True, 1, 5.2, 'abc', True]"
      ]
     },
     "execution_count": 9,
     "metadata": {},
     "output_type": "execute_result"
    }
   ],
   "source": [
    "# l1 = [1,5.2,'abc',True]\n",
    "l2 = l1 * 2\n",
    "l2"
   ]
  },
  {
   "cell_type": "code",
   "execution_count": 57,
   "id": "6cf30298",
   "metadata": {},
   "outputs": [
    {
     "data": {
      "text/plain": [
       "[1, 5.2, 'True']"
      ]
     },
     "execution_count": 57,
     "metadata": {},
     "output_type": "execute_result"
    }
   ],
   "source": [
    "l1 = [1,5.2,'True']\n",
    "l1[:3]"
   ]
  },
  {
   "cell_type": "code",
   "execution_count": 109,
   "id": "f73fb16e",
   "metadata": {},
   "outputs": [
    {
     "data": {
      "text/plain": [
       "[5.2, True, 'def']"
      ]
     },
     "execution_count": 109,
     "metadata": {},
     "output_type": "execute_result"
    }
   ],
   "source": [
    "l1[1:4]"
   ]
  },
  {
   "cell_type": "code",
   "execution_count": 58,
   "id": "7bcb990b",
   "metadata": {},
   "outputs": [
    {
     "data": {
      "text/plain": [
       "[1, 5.2, 'True']"
      ]
     },
     "execution_count": 58,
     "metadata": {},
     "output_type": "execute_result"
    }
   ],
   "source": [
    "l1[::]"
   ]
  },
  {
   "cell_type": "code",
   "execution_count": 59,
   "id": "24e67db2",
   "metadata": {},
   "outputs": [
    {
     "data": {
      "text/plain": [
       "[1, 5.2, 'True']"
      ]
     },
     "execution_count": 59,
     "metadata": {},
     "output_type": "execute_result"
    }
   ],
   "source": [
    "l1.copy()\n",
    "l1"
   ]
  },
  {
   "cell_type": "code",
   "execution_count": 149,
   "id": "b6a24cb1",
   "metadata": {},
   "outputs": [
    {
     "data": {
      "text/plain": [
       "'is'"
      ]
     },
     "execution_count": 149,
     "metadata": {},
     "output_type": "execute_result"
    }
   ],
   "source": [
    "l2.pop()\n"
   ]
  },
  {
   "cell_type": "code",
   "execution_count": 153,
   "id": "05082e22",
   "metadata": {},
   "outputs": [
    {
     "data": {
      "text/plain": [
       "['f', 'h', 'r', 'x']"
      ]
     },
     "execution_count": 153,
     "metadata": {},
     "output_type": "execute_result"
    }
   ],
   "source": [
    "l3 =['x','r','f','h']\n",
    "l3.sort(key = str.lower)\n",
    "l3"
   ]
  },
  {
   "cell_type": "markdown",
   "id": "52b7b82b",
   "metadata": {},
   "source": [
    "<h1>Touple</h1>"
   ]
  },
  {
   "cell_type": "code",
   "execution_count": 154,
   "id": "0078de69",
   "metadata": {},
   "outputs": [
    {
     "data": {
      "text/plain": [
       "('a', 2, 2.5, True)"
      ]
     },
     "execution_count": 154,
     "metadata": {},
     "output_type": "execute_result"
    }
   ],
   "source": [
    "t1 = ('a',2,2.5,True)\n",
    "t1"
   ]
  },
  {
   "cell_type": "code",
   "execution_count": 155,
   "id": "7dd183c0",
   "metadata": {},
   "outputs": [
    {
     "data": {
      "text/plain": [
       "tuple"
      ]
     },
     "execution_count": 155,
     "metadata": {},
     "output_type": "execute_result"
    }
   ],
   "source": [
    "type(t1)"
   ]
  },
  {
   "cell_type": "code",
   "execution_count": 157,
   "id": "f06147df",
   "metadata": {},
   "outputs": [
    {
     "data": {
      "text/plain": [
       "2.5"
      ]
     },
     "execution_count": 157,
     "metadata": {},
     "output_type": "execute_result"
    }
   ],
   "source": [
    "t1[2]"
   ]
  },
  {
   "cell_type": "code",
   "execution_count": 165,
   "id": "8d05001f",
   "metadata": {},
   "outputs": [
    {
     "data": {
      "text/plain": [
       "(1, 3, 'T', 4, 'k')"
      ]
     },
     "execution_count": 165,
     "metadata": {},
     "output_type": "execute_result"
    }
   ],
   "source": [
    "t2 = 1,3,'T',4,'k'\n",
    "t2"
   ]
  },
  {
   "cell_type": "code",
   "execution_count": 168,
   "id": "5abd2bc9",
   "metadata": {},
   "outputs": [
    {
     "data": {
      "text/plain": [
       "4"
      ]
     },
     "execution_count": 168,
     "metadata": {},
     "output_type": "execute_result"
    }
   ],
   "source": [
    "t2.index('k')\n"
   ]
  },
  {
   "cell_type": "code",
   "execution_count": 169,
   "id": "0c8b3dce",
   "metadata": {},
   "outputs": [
    {
     "data": {
      "text/plain": [
       "('T', 4, 'k')"
      ]
     },
     "execution_count": 169,
     "metadata": {},
     "output_type": "execute_result"
    }
   ],
   "source": [
    "t2[2:]"
   ]
  },
  {
   "cell_type": "code",
   "execution_count": 171,
   "id": "36edb4d2",
   "metadata": {},
   "outputs": [
    {
     "data": {
      "text/plain": [
       "('a', 2, 2.5, True, 1, 3, 'T', 4, 'k')"
      ]
     },
     "execution_count": 171,
     "metadata": {},
     "output_type": "execute_result"
    }
   ],
   "source": [
    "t3 = t1 + t2\n",
    "t3\n"
   ]
  },
  {
   "cell_type": "code",
   "execution_count": 174,
   "id": "12834166",
   "metadata": {},
   "outputs": [
    {
     "data": {
      "text/plain": [
       "('a', 2, 2.5, True, 'a', 2, 2.5, True)"
      ]
     },
     "execution_count": 174,
     "metadata": {},
     "output_type": "execute_result"
    }
   ],
   "source": [
    "t3 = t1 * 2\n",
    "t3\n"
   ]
  },
  {
   "cell_type": "code",
   "execution_count": 180,
   "id": "04e0fb20",
   "metadata": {},
   "outputs": [
    {
     "name": "stdout",
     "output_type": "stream",
     "text": [
      "True\n"
     ]
    }
   ],
   "source": [
    "print('a' in t3)"
   ]
  },
  {
   "cell_type": "code",
   "execution_count": 181,
   "id": "f23fb965",
   "metadata": {},
   "outputs": [
    {
     "data": {
      "text/plain": [
       "8"
      ]
     },
     "execution_count": 181,
     "metadata": {},
     "output_type": "execute_result"
    }
   ],
   "source": [
    "len(t3)"
   ]
  },
  {
   "cell_type": "markdown",
   "id": "72a99868",
   "metadata": {},
   "source": [
    "<h1>Set</h1>"
   ]
  },
  {
   "cell_type": "code",
   "execution_count": 183,
   "id": "cf0587cf",
   "metadata": {},
   "outputs": [
    {
     "data": {
      "text/plain": [
       "{1, 2, 'a'}"
      ]
     },
     "execution_count": 183,
     "metadata": {},
     "output_type": "execute_result"
    }
   ],
   "source": [
    "s = {1,2,'a'}\n",
    "s"
   ]
  },
  {
   "cell_type": "code",
   "execution_count": 184,
   "id": "8120f780",
   "metadata": {},
   "outputs": [
    {
     "data": {
      "text/plain": [
       "set"
      ]
     },
     "execution_count": 184,
     "metadata": {},
     "output_type": "execute_result"
    }
   ],
   "source": [
    "type(s)"
   ]
  },
  {
   "cell_type": "code",
   "execution_count": 186,
   "id": "36909473",
   "metadata": {},
   "outputs": [
    {
     "data": {
      "text/plain": [
       "['l1', 2, 3, 'l4']"
      ]
     },
     "execution_count": 186,
     "metadata": {},
     "output_type": "execute_result"
    }
   ],
   "source": [
    "s1 = (['l1',2,3,'l4'])\n",
    "s1\n"
   ]
  },
  {
   "cell_type": "code",
   "execution_count": 189,
   "id": "bfa90b53",
   "metadata": {},
   "outputs": [
    {
     "data": {
      "text/plain": [
       "{2, 3, 'l1', 'l3'}"
      ]
     },
     "execution_count": 189,
     "metadata": {},
     "output_type": "execute_result"
    }
   ],
   "source": [
    "s1 = set(['l1',2,3,'l3'])\n",
    "s1"
   ]
  },
  {
   "cell_type": "code",
   "execution_count": 5,
   "id": "2742b79b",
   "metadata": {},
   "outputs": [
    {
     "data": {
      "text/plain": [
       "{2, 4, 5, 'abc', 'def', 'ghi'}"
      ]
     },
     "execution_count": 5,
     "metadata": {},
     "output_type": "execute_result"
    }
   ],
   "source": [
    "ss1 = {'abc','def','ghi'}\n",
    "ss2 = {2,4,5,}\n",
    "ss3 = {2,6,3,5}\n",
    "ss4 = {'rst','abc','xyz'}\n",
    "\n",
    "ss1 | ss2"
   ]
  },
  {
   "cell_type": "code",
   "execution_count": 214,
   "id": "326335eb",
   "metadata": {},
   "outputs": [
    {
     "data": {
      "text/plain": [
       "{2, 3, 4, 5, 6}"
      ]
     },
     "execution_count": 214,
     "metadata": {},
     "output_type": "execute_result"
    }
   ],
   "source": [
    "ss3 | ss2"
   ]
  },
  {
   "cell_type": "code",
   "execution_count": 210,
   "id": "fa941f64",
   "metadata": {},
   "outputs": [
    {
     "data": {
      "text/plain": [
       "{2, 3, 5, 6, 'abc', 'def', 'ghi'}"
      ]
     },
     "execution_count": 210,
     "metadata": {},
     "output_type": "execute_result"
    }
   ],
   "source": [
    "ss1 | ss3"
   ]
  },
  {
   "cell_type": "code",
   "execution_count": 6,
   "id": "f787cb6e",
   "metadata": {},
   "outputs": [
    {
     "data": {
      "text/plain": [
       "{2, 5}"
      ]
     },
     "execution_count": 6,
     "metadata": {},
     "output_type": "execute_result"
    }
   ],
   "source": [
    "ss2 & ss3"
   ]
  },
  {
   "cell_type": "code",
   "execution_count": 8,
   "id": "9849c18a",
   "metadata": {},
   "outputs": [
    {
     "data": {
      "text/plain": [
       "{'def', 'ghi'}"
      ]
     },
     "execution_count": 8,
     "metadata": {},
     "output_type": "execute_result"
    }
   ],
   "source": [
    "ss1 - ss4"
   ]
  },
  {
   "cell_type": "markdown",
   "id": "1c72f03c",
   "metadata": {},
   "source": [
    "<h1>Dictionaries</h1>"
   ]
  },
  {
   "cell_type": "code",
   "execution_count": 4,
   "id": "3cb4f36e",
   "metadata": {},
   "outputs": [
    {
     "data": {
      "text/plain": [
       "{1: 'sunday', 2: 'monday', 3: 'tuesday', 4: 'friday'}"
      ]
     },
     "execution_count": 4,
     "metadata": {},
     "output_type": "execute_result"
    }
   ],
   "source": [
    "d1 = {1:'sunday',2:'monday',3:'tuesday',4:'friday'}\n",
    "d1"
   ]
  },
  {
   "cell_type": "code",
   "execution_count": 7,
   "id": "168df6c7",
   "metadata": {},
   "outputs": [
    {
     "data": {
      "text/plain": [
       "{1: 'sunday', 2: 'monday', 3: 'tuesday', 4: 'friday', 5: 'saturday'}"
      ]
     },
     "execution_count": 7,
     "metadata": {},
     "output_type": "execute_result"
    }
   ],
   "source": [
    "d1[5] = 'saturday'\n",
    "d1"
   ]
  },
  {
   "cell_type": "code",
   "execution_count": 10,
   "id": "2192940d",
   "metadata": {},
   "outputs": [
    {
     "data": {
      "text/plain": [
       "'abc'"
      ]
     },
     "execution_count": 10,
     "metadata": {},
     "output_type": "execute_result"
    }
   ],
   "source": [
    "d1.get(8,'abc')"
   ]
  },
  {
   "cell_type": "code",
   "execution_count": 29,
   "id": "6b23ded9",
   "metadata": {},
   "outputs": [
    {
     "data": {
      "text/plain": [
       "{2: 'monday', 3: 'tuesday', 4: 'friday'}"
      ]
     },
     "execution_count": 29,
     "metadata": {},
     "output_type": "execute_result"
    }
   ],
   "source": [
    "d1 = {1:'sunday',2:'monday',3:'tuesday',4:'friday'}\n",
    "d1.pop(1)\n",
    "d1"
   ]
  },
  {
   "cell_type": "markdown",
   "id": "083f1404",
   "metadata": {},
   "source": [
    "<h1>Dictionarie Method</h1>"
   ]
  },
  {
   "cell_type": "code",
   "execution_count": 2,
   "id": "01baef6f",
   "metadata": {},
   "outputs": [
    {
     "data": {
      "text/plain": [
       "{120081: 'rajkot', 120082: 'rajkot', 120083: 'rajkot'}"
      ]
     },
     "execution_count": 2,
     "metadata": {},
     "output_type": "execute_result"
    }
   ],
   "source": [
    "stud_city = {}.fromkeys([120081,120082,120083],'rajkot')\n",
    "stud_city"
   ]
  },
  {
   "cell_type": "code",
   "execution_count": 4,
   "id": "37bc304e",
   "metadata": {},
   "outputs": [
    {
     "name": "stdout",
     "output_type": "stream",
     "text": [
      "dict_items([(120081, 'rajkot'), (120082, 'rajkot'), (120083, 'rajkot')])\n"
     ]
    }
   ],
   "source": [
    "print(stud_city.items())"
   ]
  },
  {
   "cell_type": "code",
   "execution_count": 42,
   "id": "b7cc5eb8",
   "metadata": {},
   "outputs": [
    {
     "data": {
      "text/plain": [
       "dict_items"
      ]
     },
     "execution_count": 42,
     "metadata": {},
     "output_type": "execute_result"
    }
   ],
   "source": [
    "type(stud_city.items())"
   ]
  },
  {
   "cell_type": "code",
   "execution_count": 43,
   "id": "f046bf36",
   "metadata": {},
   "outputs": [
    {
     "data": {
      "text/plain": [
       "dict_keys([120081, 120082, 120083])"
      ]
     },
     "execution_count": 43,
     "metadata": {},
     "output_type": "execute_result"
    }
   ],
   "source": [
    "stud_city.keys()"
   ]
  },
  {
   "cell_type": "code",
   "execution_count": 44,
   "id": "9c989b00",
   "metadata": {},
   "outputs": [
    {
     "data": {
      "text/plain": [
       "dict_keys"
      ]
     },
     "execution_count": 44,
     "metadata": {},
     "output_type": "execute_result"
    }
   ],
   "source": [
    "type(stud_city.keys())"
   ]
  },
  {
   "cell_type": "markdown",
   "id": "d6e5d9df",
   "metadata": {},
   "source": [
    "<h1>Dictionarie Comprehension</h1> "
   ]
  },
  {
   "cell_type": "code",
   "execution_count": 49,
   "id": "5eb69b47",
   "metadata": {},
   "outputs": [
    {
     "name": "stdout",
     "output_type": "stream",
     "text": [
      "{0: 0, 1: 1, 2: 4, 3: 9, 4: 16, 5: 25, 6: 36, 7: 49, 8: 64, 9: 81, 10: 100, 11: 121, 12: 144, 13: 169, 14: 196, 15: 225, 16: 256, 17: 289, 18: 324, 19: 361, 20: 400, 21: 441, 22: 484, 23: 529, 24: 576, 25: 625, 26: 676, 27: 729, 28: 784, 29: 841, 30: 900, 31: 961, 32: 1024, 33: 1089, 34: 1156, 35: 1225, 36: 1296, 37: 1369, 38: 1444, 39: 1521, 40: 1600, 41: 1681, 42: 1764, 43: 1849, 44: 1936, 45: 2025, 46: 2116, 47: 2209, 48: 2304, 49: 2401, 50: 2500, 51: 2601, 52: 2704, 53: 2809, 54: 2916, 55: 3025, 56: 3136, 57: 3249, 58: 3364, 59: 3481, 60: 3600, 61: 3721, 62: 3844, 63: 3969, 64: 4096, 65: 4225, 66: 4356, 67: 4489, 68: 4624, 69: 4761, 70: 4900, 71: 5041, 72: 5184, 73: 5329, 74: 5476, 75: 5625, 76: 5776, 77: 5929, 78: 6084, 79: 6241, 80: 6400, 81: 6561, 82: 6724, 83: 6889, 84: 7056, 85: 7225, 86: 7396, 87: 7569, 88: 7744, 89: 7921, 90: 8100, 91: 8281, 92: 8464, 93: 8649, 94: 8836, 95: 9025, 96: 9216, 97: 9409, 98: 9604, 99: 9801}\n"
     ]
    }
   ],
   "source": [
    "square = {x: x*x for x in range(100)}\n",
    "print(square)"
   ]
  },
  {
   "cell_type": "code",
   "execution_count": 11,
   "id": "d35a9e6b",
   "metadata": {},
   "outputs": [
    {
     "name": "stdout",
     "output_type": "stream",
     "text": [
      "{0: 0, 1: 1, 2: 4, 3: 9, 4: 16, 5: 25}\n"
     ]
    }
   ],
   "source": [
    "squares = {}\n",
    "for x in range(6):\n",
    "        squares[x] = x*x\n",
    "print(squares)"
   ]
  },
  {
   "cell_type": "code",
   "execution_count": 71,
   "id": "90fce003",
   "metadata": {},
   "outputs": [
    {
     "name": "stdout",
     "output_type": "stream",
     "text": [
      "range(0, 5)\n"
     ]
    }
   ],
   "source": [
    "k = range(5)\n",
    "print(k)"
   ]
  },
  {
   "cell_type": "code",
   "execution_count": 82,
   "id": "6dcbbd76",
   "metadata": {},
   "outputs": [
    {
     "data": {
      "text/plain": [
       "{0: 0, 2: 4, 4: 16, 6: 36, 8: 64}"
      ]
     },
     "execution_count": 82,
     "metadata": {},
     "output_type": "execute_result"
    }
   ],
   "source": [
    "even_squares = {x: x*x for x in range(10) if x % 2 != 1}\n",
    "even_squares"
   ]
  },
  {
   "cell_type": "markdown",
   "id": "7cb612a5",
   "metadata": {},
   "source": [
    "<h1>Dictionare Membership</h1>"
   ]
  },
  {
   "cell_type": "code",
   "execution_count": 84,
   "id": "f8ad6202",
   "metadata": {},
   "outputs": [
    {
     "name": "stdout",
     "output_type": "stream",
     "text": [
      "True\n"
     ]
    }
   ],
   "source": [
    "print(2 in squares)"
   ]
  },
  {
   "cell_type": "code",
   "execution_count": 90,
   "id": "b7ca0e13",
   "metadata": {},
   "outputs": [
    {
     "name": "stdout",
     "output_type": "stream",
     "text": [
      "0 0\n",
      "1 1\n",
      "2 4\n",
      "3 9\n",
      "4 16\n",
      "5 25\n"
     ]
    }
   ],
   "source": [
    "for x in squares:\n",
    "    print(x,squares[x])"
   ]
  },
  {
   "cell_type": "markdown",
   "id": "8561460d",
   "metadata": {},
   "source": [
    "<h1>if programme</h1>"
   ]
  },
  {
   "cell_type": "code",
   "execution_count": 17,
   "id": "1aa8f720",
   "metadata": {},
   "outputs": [
    {
     "name": "stdout",
     "output_type": "stream",
     "text": [
      "b lessthan a\n",
      "6\n",
      "end of programme\n"
     ]
    }
   ],
   "source": [
    "a =5\n",
    "b =6\n",
    "if a < b:\n",
    "    print('b lessthan a')\n",
    "    print (b)\n",
    "else:\n",
    "    print(a , b)\n",
    "print('end of programme')"
   ]
  },
  {
   "cell_type": "markdown",
   "id": "5705a91c",
   "metadata": {},
   "source": [
    "<h1>else if programme</h1>"
   ]
  },
  {
   "cell_type": "code",
   "execution_count": 24,
   "id": "05478058",
   "metadata": {},
   "outputs": [
    {
     "name": "stdout",
     "output_type": "stream",
     "text": [
      "r\n"
     ]
    }
   ],
   "source": [
    "A = 'r'\n",
    "B = 't'\n",
    "C = 'g'\n",
    "if A < B:\n",
    "    print(A)\n",
    "elif B < C:\n",
    "    print(B)\n",
    "else:\n",
    "    print(C)"
   ]
  },
  {
   "cell_type": "markdown",
   "id": "2628c260",
   "metadata": {},
   "source": [
    "<h1>nested if programme</h1>"
   ]
  },
  {
   "cell_type": "code",
   "execution_count": 23,
   "id": "dfd4a032",
   "metadata": {},
   "outputs": [
    {
     "name": "stdout",
     "output_type": "stream",
     "text": [
      "enter number: 10\n",
      "positive number\n"
     ]
    }
   ],
   "source": [
    "num = float(input(\"enter number: \"))\n",
    "if num >= 0:\n",
    "    if num == 0:\n",
    "        print(\"zero\")\n",
    "    \n",
    "    else:\n",
    "        print(\"positive number\")\n",
    "else:\n",
    "        print(\"nagative number\")"
   ]
  },
  {
   "cell_type": "markdown",
   "id": "eb22fe4e",
   "metadata": {},
   "source": [
    "<h1>Pass statement</h1>"
   ]
  },
  {
   "cell_type": "code",
   "execution_count": 54,
   "id": "21b8ab81",
   "metadata": {},
   "outputs": [
    {
     "name": "stdout",
     "output_type": "stream",
     "text": [
      "enter number A:10\n",
      "enter number B:20\n"
     ]
    }
   ],
   "source": [
    "a = int(input(\"enter number A:\"))\n",
    "b = int(input(\"enter number B:\"))\n",
    "\n",
    "if b > a:\n",
    "    pass\n",
    "else:\n",
    "    print(b)"
   ]
  },
  {
   "cell_type": "markdown",
   "id": "79bb77ab",
   "metadata": {},
   "source": [
    "<h1>While loop with Else</h1>"
   ]
  },
  {
   "cell_type": "code",
   "execution_count": 59,
   "id": "3d8e48cc",
   "metadata": {},
   "outputs": [
    {
     "name": "stdout",
     "output_type": "stream",
     "text": [
      "0 even number\n",
      "1 odd number\n",
      "1\n"
     ]
    }
   ],
   "source": [
    "t = 0\n",
    "while t < 10 and t %2 == 0:\n",
    "    print(\"{} even number\".format(t))\n",
    "    t = t+1\n",
    "else:\n",
    "    print(\"{} odd number\".format(t))\n",
    "print(t)"
   ]
  },
  {
   "cell_type": "markdown",
   "id": "b56a30e2",
   "metadata": {},
   "source": [
    "<h1>Break </h1>"
   ]
  },
  {
   "cell_type": "code",
   "execution_count": 70,
   "id": "88f1bbf0",
   "metadata": {},
   "outputs": [
    {
     "name": "stdout",
     "output_type": "stream",
     "text": [
      "end\n"
     ]
    }
   ],
   "source": [
    "s = \"foor loop\"\n",
    "for c in s:\n",
    "    if c > 'p':\n",
    "        break\n",
    "        print(c)\n",
    "print(\"s\")"
   ]
  },
  {
   "cell_type": "markdown",
   "id": "0aa602a5",
   "metadata": {},
   "source": [
    "<h1>Continue</h1>"
   ]
  },
  {
   "cell_type": "code",
   "execution_count": 9,
   "id": "0d7ef4fa",
   "metadata": {},
   "outputs": [
    {
     "name": "stdout",
     "output_type": "stream",
     "text": [
      "s\n"
     ]
    }
   ],
   "source": [
    "s = \"foor loop\"\n",
    "for c in s:\n",
    "    if c > 'p':\n",
    "        continue\n",
    "        print(c)\n",
    "print(\"s\")"
   ]
  },
  {
   "cell_type": "markdown",
   "id": "6bc0c7b5",
   "metadata": {},
   "source": [
    "<h1>For loop</h1>"
   ]
  },
  {
   "cell_type": "code",
   "execution_count": 14,
   "id": "ea100907",
   "metadata": {},
   "outputs": [
    {
     "name": "stdout",
     "output_type": "stream",
     "text": [
      "0\n",
      "1\n",
      "2\n",
      "3\n",
      "4\n",
      "5\n",
      "6\n",
      "7\n",
      "8\n",
      "9\n"
     ]
    }
   ],
   "source": [
    "for i in range(10):\n",
    "        print(i)"
   ]
  },
  {
   "cell_type": "markdown",
   "id": "c8c8edbd",
   "metadata": {},
   "source": [
    "<h1>Odd Even Programme</h1>"
   ]
  },
  {
   "cell_type": "code",
   "execution_count": 17,
   "id": "7dfa18a7",
   "metadata": {},
   "outputs": [
    {
     "name": "stdout",
     "output_type": "stream",
     "text": [
      "1\n",
      "3\n",
      "5\n",
      "7\n",
      "9\n"
     ]
    }
   ],
   "source": [
    "# odd programme\n",
    "for i in range(10):\n",
    "    if i %2 != 0:\n",
    "        print(i)\n"
   ]
  },
  {
   "cell_type": "code",
   "execution_count": 20,
   "id": "63a05848",
   "metadata": {},
   "outputs": [
    {
     "name": "stdout",
     "output_type": "stream",
     "text": [
      "0\n",
      "2\n",
      "4\n",
      "6\n",
      "8\n"
     ]
    }
   ],
   "source": [
    "# even programme\n",
    "for i in range(10):\n",
    "    if i %2 != 1:\n",
    "        print(i)\n"
   ]
  },
  {
   "cell_type": "markdown",
   "id": "445e4d8f",
   "metadata": {},
   "source": [
    "<h1>Function</h1>"
   ]
  },
  {
   "cell_type": "code",
   "execution_count": 23,
   "id": "d4c65745",
   "metadata": {},
   "outputs": [],
   "source": [
    "# string reverse\n",
    "def Srev(mystring):\n",
    "    print(mystring[::-1])"
   ]
  },
  {
   "cell_type": "code",
   "execution_count": 27,
   "id": "6efc4d14",
   "metadata": {},
   "outputs": [
    {
     "name": "stdout",
     "output_type": "stream",
     "text": [
      "htipayhdiv tarajug\n"
     ]
    }
   ],
   "source": [
    "s = \"gujarat vidhyapith\" \n",
    "Srev(s)"
   ]
  },
  {
   "cell_type": "code",
   "execution_count": 10,
   "id": "9084d205",
   "metadata": {},
   "outputs": [],
   "source": [
    "# Do string\n",
    "def Srevers(string):\n",
    "    print (String[::-1])"
   ]
  },
  {
   "cell_type": "code",
   "execution_count": 18,
   "id": "4222f366",
   "metadata": {},
   "outputs": [],
   "source": [
    "Srevers = ('gujarat')\n"
   ]
  },
  {
   "cell_type": "markdown",
   "id": "e25b1bee",
   "metadata": {},
   "source": [
    "<h1>Scope and variable</h1>"
   ]
  },
  {
   "cell_type": "code",
   "execution_count": 26,
   "id": "2b7c44df",
   "metadata": {},
   "outputs": [
    {
     "name": "stdout",
     "output_type": "stream",
     "text": [
      "globle\n"
     ]
    }
   ],
   "source": [
    "# scope of the variable\n",
    "x = 'global'\n",
    "def square(x):\n",
    "    return x * x\n",
    "print(x)"
   ]
  },
  {
   "cell_type": "code",
   "execution_count": 30,
   "id": "4912a446",
   "metadata": {},
   "outputs": [
    {
     "data": {
      "text/plain": [
       "25"
      ]
     },
     "execution_count": 30,
     "metadata": {},
     "output_type": "execute_result"
    }
   ],
   "source": [
    "# scope of the variable\n",
    "x = 'global'\n",
    "def square(x):\n",
    "    return x * x\n",
    "square(5)"
   ]
  },
  {
   "cell_type": "code",
   "execution_count": 47,
   "id": "7c99e7fa",
   "metadata": {},
   "outputs": [
    {
     "name": "stdout",
     "output_type": "stream",
     "text": [
      "global\n",
      "25\n"
     ]
    }
   ],
   "source": [
    "# scope of the variable\n",
    "x = 'global'\n",
    "def square(y):\n",
    "    global x\n",
    "#     return y * y\n",
    "    print(x)\n",
    "    print(y * y)\n",
    "    \n",
    "square(5)"
   ]
  },
  {
   "cell_type": "markdown",
   "id": "77a21fec",
   "metadata": {},
   "source": [
    "<h1>Argument</h1>"
   ]
  },
  {
   "cell_type": "code",
   "execution_count": 46,
   "id": "c3670b52",
   "metadata": {},
   "outputs": [
    {
     "data": {
      "text/plain": [
       "100"
      ]
     },
     "execution_count": 46,
     "metadata": {},
     "output_type": "execute_result"
    }
   ],
   "source": [
    "# example do_sum\n",
    "\n",
    "square(10)"
   ]
  },
  {
   "cell_type": "code",
   "execution_count": 52,
   "id": "38c61136",
   "metadata": {},
   "outputs": [],
   "source": [
    "# example do_sum\n",
    "def hello(g,name):\n",
    "    print(\"hello {} {}\".formate(g,name))\n",
    "        "
   ]
  },
  {
   "cell_type": "markdown",
   "id": "4a2a7e67",
   "metadata": {},
   "source": [
    "<h1>pythone defalut argument</h1>"
   ]
  },
  {
   "cell_type": "markdown",
   "id": "d381650b",
   "metadata": {},
   "source": [
    "<h1>Recurse</h1>"
   ]
  },
  {
   "cell_type": "code",
   "execution_count": 61,
   "id": "67328781",
   "metadata": {},
   "outputs": [
    {
     "data": {
      "text/plain": [
       "120"
      ]
     },
     "execution_count": 61,
     "metadata": {},
     "output_type": "execute_result"
    }
   ],
   "source": [
    "def fact(no):\n",
    "    if(no==1):\n",
    "        return 1\n",
    "    else:\n",
    "        return no * fact(no - 1)\n",
    "fact(5)"
   ]
  },
  {
   "cell_type": "markdown",
   "id": "f22fc577",
   "metadata": {},
   "source": [
    "<h1>Lambda Function</h1>"
   ]
  },
  {
   "cell_type": "code",
   "execution_count": 63,
   "id": "4205059a",
   "metadata": {},
   "outputs": [
    {
     "data": {
      "text/plain": [
       "function"
      ]
     },
     "execution_count": 63,
     "metadata": {},
     "output_type": "execute_result"
    }
   ],
   "source": [
    "def square(a):\n",
    "    return a *a\n",
    "type(square)"
   ]
  },
  {
   "cell_type": "code",
   "execution_count": 69,
   "id": "2077c6a4",
   "metadata": {},
   "outputs": [
    {
     "data": {
      "text/plain": [
       "function"
      ]
     },
     "execution_count": 69,
     "metadata": {},
     "output_type": "execute_result"
    }
   ],
   "source": [
    "mysquare = lambda x: x*x\n",
    "type(mysquare)\n"
   ]
  },
  {
   "cell_type": "code",
   "execution_count": 1,
   "id": "a7ef5787",
   "metadata": {},
   "outputs": [
    {
     "ename": "TypeError",
     "evalue": "'int' object is not iterable",
     "output_type": "error",
     "traceback": [
      "\u001b[1;31m---------------------------------------------------------------------------\u001b[0m",
      "\u001b[1;31mTypeError\u001b[0m                                 Traceback (most recent call last)",
      "\u001b[1;32m<ipython-input-1-5b6dc2abb628>\u001b[0m in \u001b[0;36m<module>\u001b[1;34m\u001b[0m\n\u001b[0;32m      2\u001b[0m \u001b[1;33m\u001b[0m\u001b[0m\n\u001b[0;32m      3\u001b[0m \u001b[0ml\u001b[0m\u001b[1;33m=\u001b[0m \u001b[1;33m[\u001b[0m\u001b[1;36m1\u001b[0m\u001b[1;33m,\u001b[0m\u001b[1;36m2\u001b[0m\u001b[1;33m,\u001b[0m\u001b[1;36m3\u001b[0m\u001b[1;33m,\u001b[0m\u001b[1;36m4\u001b[0m\u001b[1;33m]\u001b[0m\u001b[1;33m\u001b[0m\u001b[1;33m\u001b[0m\u001b[0m\n\u001b[1;32m----> 4\u001b[1;33m \u001b[0ml1\u001b[0m \u001b[1;33m=\u001b[0m \u001b[1;33m(\u001b[0m\u001b[0mmap\u001b[0m\u001b[1;33m(\u001b[0m\u001b[1;32mlambda\u001b[0m \u001b[0mx\u001b[0m\u001b[1;33m:\u001b[0m\u001b[0mx\u001b[0m\u001b[1;33m+\u001b[0m\u001b[1;36m2\u001b[0m\u001b[1;33m,\u001b[0m\u001b[1;36m1\u001b[0m\u001b[1;33m)\u001b[0m\u001b[1;33m)\u001b[0m\u001b[1;33m\u001b[0m\u001b[1;33m\u001b[0m\u001b[0m\n\u001b[0m\u001b[0;32m      5\u001b[0m \u001b[0ml1\u001b[0m\u001b[1;33m\u001b[0m\u001b[1;33m\u001b[0m\u001b[0m\n",
      "\u001b[1;31mTypeError\u001b[0m: 'int' object is not iterable"
     ]
    }
   ],
   "source": [
    "# map() function using lambda as a arguments\n",
    "\n",
    "l= [1,2,3,4]\n",
    "l1 = (map(lambda x:x+2,1))\n",
    "l1\n"
   ]
  },
  {
   "cell_type": "code",
   "execution_count": null,
   "id": "3f9316ae",
   "metadata": {},
   "outputs": [],
   "source": []
  }
 ],
 "metadata": {
  "kernelspec": {
   "display_name": "Python 3",
   "language": "python",
   "name": "python3"
  },
  "language_info": {
   "codemirror_mode": {
    "name": "ipython",
    "version": 3
   },
   "file_extension": ".py",
   "mimetype": "text/x-python",
   "name": "python",
   "nbconvert_exporter": "python",
   "pygments_lexer": "ipython3",
   "version": "3.9.4"
  }
 },
 "nbformat": 4,
 "nbformat_minor": 5
}
